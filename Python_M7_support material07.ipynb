{
  "cells": [
    {
      "cell_type": "markdown",
      "metadata": {
        "id": "KJqp9AANOCtf"
      },
      "source": [
        "<img src=\"https://raw.githubusercontent.com/andre-marcos-perez/ebac-course-utils/main/media/logo/newebac_logo_black_half.png\" alt=\"ebac-logo\">\n",
        "\n",
        "---\n",
        "\n",
        "# **Módulo** | Python: Módulos & Pacotes\n",
        "Caderno de **Aula**<br> \n",
        "Professor [André Perez](https://www.linkedin.com/in/andremarcosperez/)\n",
        "\n",
        "---"
      ]
    },
    {
      "cell_type": "markdown",
      "metadata": {
        "id": "d9jDtUbDOE1-"
      },
      "source": [
        "# **Tópicos**\n",
        "\n",
        "<ol type=\"1\">\n",
        "  <li>from / import / as;</li>\n",
        "  <li>Módulo;</li>\n",
        "  <li>Pacote;</li>\n",
        "  <li>Baixando pacotes.</li>\n",
        "</ol>"
      ]
    },
    {
      "cell_type": "markdown",
      "metadata": {
        "id": "SmoHgt-lwkpD"
      },
      "source": [
        "---"
      ]
    },
    {
      "cell_type": "markdown",
      "metadata": {
        "id": "GABI6OW8OfQ2"
      },
      "source": [
        "# **Aulas**"
      ]
    },
    {
      "cell_type": "markdown",
      "metadata": {
        "id": "muD1vxozykSC"
      },
      "source": [
        "## 1\\. from / import / as"
      ]
    },
    {
      "cell_type": "markdown",
      "metadata": {
        "id": "otv_qcsJmWkr"
      },
      "source": [
        "Os módulos nativos do Python podem ser encontrados neste [link](https://docs.python.org/3/py-modindex.html)."
      ]
    },
    {
      "cell_type": "markdown",
      "metadata": {
        "id": "5a3_syBIP6yO"
      },
      "source": [
        "### **1.1. import** "
      ]
    },
    {
      "cell_type": "markdown",
      "metadata": {
        "id": "NglCEvJDmqkw"
      },
      "source": [
        "**Exemplo:** `random`"
      ]
    },
    {
      "cell_type": "code",
      "execution_count": null,
      "metadata": {
        "id": "s3TYcbzAlgxe"
      },
      "outputs": [],
      "source": [
        "import random"
      ]
    },
    {
      "cell_type": "code",
      "execution_count": null,
      "metadata": {
        "id": "Bqz8RRXwljEe"
      },
      "outputs": [],
      "source": [
        "escolha = random.choice([1, 2, 3])\n",
        "print(escolha)"
      ]
    },
    {
      "cell_type": "code",
      "execution_count": null,
      "metadata": {
        "id": "FGXZX082mp5C"
      },
      "outputs": [],
      "source": [
        "numero_aleatorio = random.random() # entre [0,1)\n",
        "print(numero_aleatorio)"
      ]
    },
    {
      "cell_type": "markdown",
      "metadata": {
        "id": "w44EAxw7nCA4"
      },
      "source": [
        "**Exemplo:** `math`"
      ]
    },
    {
      "cell_type": "code",
      "execution_count": null,
      "metadata": {
        "id": "qEW9nFDmnE7w"
      },
      "outputs": [],
      "source": [
        "import math"
      ]
    },
    {
      "cell_type": "code",
      "execution_count": null,
      "metadata": {
        "id": "LD1YND2WnF4-"
      },
      "outputs": [],
      "source": [
        "potencia = math.pow(10, 10)\n",
        "print(potencia)"
      ]
    },
    {
      "cell_type": "code",
      "execution_count": null,
      "metadata": {
        "id": "FobSlEhinWIR"
      },
      "outputs": [],
      "source": [
        "num = math.ceil(10.1)\n",
        "print(num)"
      ]
    },
    {
      "cell_type": "code",
      "execution_count": null,
      "metadata": {
        "id": "WExZa8nMCxMl"
      },
      "outputs": [],
      "source": [
        "print(math.pi)"
      ]
    },
    {
      "cell_type": "markdown",
      "metadata": {
        "id": "E6D5rjlESJ1A"
      },
      "source": [
        "### **1.2. from, import** "
      ]
    },
    {
      "cell_type": "markdown",
      "metadata": {
        "id": "bO66G3v8qMBu"
      },
      "source": [
        "**Exemplo:** `time`"
      ]
    },
    {
      "cell_type": "code",
      "execution_count": null,
      "metadata": {
        "id": "C6V_G3BonpW7"
      },
      "outputs": [],
      "source": [
        "from time import time"
      ]
    },
    {
      "cell_type": "code",
      "execution_count": null,
      "metadata": {
        "id": "NtnIopHFns4L"
      },
      "outputs": [],
      "source": [
        "print(time())"
      ]
    },
    {
      "cell_type": "code",
      "execution_count": null,
      "metadata": {
        "id": "o_nRkCM9oTOW"
      },
      "outputs": [],
      "source": [
        "sleep(5)"
      ]
    },
    {
      "cell_type": "code",
      "execution_count": null,
      "metadata": {
        "id": "JQzDzUysoXkp"
      },
      "outputs": [],
      "source": [
        "from time import time, sleep\n"
      ]
    },
    {
      "cell_type": "code",
      "execution_count": null,
      "metadata": {
        "id": "d4HJTqKOode6"
      },
      "outputs": [],
      "source": [
        "sleep(5)"
      ]
    },
    {
      "cell_type": "markdown",
      "metadata": {
        "id": "wNkFG1qKSU9M"
      },
      "source": [
        "### **1.3. from, import, as** "
      ]
    },
    {
      "cell_type": "markdown",
      "metadata": {
        "id": "KT8LkkzYqO1N"
      },
      "source": [
        "**Exemplo:** `datetime`"
      ]
    },
    {
      "cell_type": "code",
      "execution_count": null,
      "metadata": {
        "id": "X-FHA80Rqdv0"
      },
      "outputs": [],
      "source": [
        "from datetime import datetime as dt"
      ]
    },
    {
      "cell_type": "code",
      "execution_count": null,
      "metadata": {
        "id": "rXaUuslnqlLX"
      },
      "outputs": [],
      "source": [
        "print(dt.now())"
      ]
    },
    {
      "cell_type": "code",
      "execution_count": null,
      "metadata": {
        "id": "Tbrk8CJkq05Z"
      },
      "outputs": [],
      "source": [
        "print(dt.now().day)"
      ]
    },
    {
      "cell_type": "code",
      "execution_count": null,
      "metadata": {
        "id": "JJO0KMONrAX9"
      },
      "outputs": [],
      "source": [
        "print(dt.now().year)"
      ]
    },
    {
      "cell_type": "markdown",
      "metadata": {
        "id": "4rRCvy_UURrM"
      },
      "source": [
        "## 2\\. Módulos"
      ]
    },
    {
      "cell_type": "markdown",
      "metadata": {
        "id": "Y1W9Hv8fURrZ"
      },
      "source": [
        "### **2.1. Motivação** "
      ]
    },
    {
      "cell_type": "markdown",
      "metadata": {
        "id": "7jdFzax1doaQ"
      },
      "source": [
        " - Classe Arquivo CSV"
      ]
    },
    {
      "cell_type": "code",
      "execution_count": null,
      "metadata": {
        "id": "Ot1p6JXgdkmZ"
      },
      "outputs": [],
      "source": [
        "class ArquivoCSV(object):\n",
        "\n",
        "  def __init__(self, arquivo: str):\n",
        "    self.arquivo = arquivo\n",
        "    self.conteudo = self._extrair_conteudo()\n",
        "    self.colunas = self._extrair_nome_colunas()\n",
        "\n",
        "  def _extrair_conteudo(self):\n",
        "    conteudo = None\n",
        "    with open(file=self.arquivo, mode='r', encoding='utf8') as arquivo:\n",
        "      conteudo = arquivo.readlines()\n",
        "    return conteudo\n",
        "\n",
        "  def _extrair_nome_colunas(self):\n",
        "    return self.conteudo[0].strip().split(sep=',')\n",
        "\n",
        "  def extrair_coluna(self, indice_coluna: str):\n",
        "    coluna = list()\n",
        "    for linha in self.conteudo:\n",
        "      conteudo_linha = linha.strip().split(sep=',')\n",
        "      coluna.append(conteudo_linha[indice_coluna])\n",
        "    coluna.pop(0)\n",
        "    return coluna"
      ]
    },
    {
      "cell_type": "markdown",
      "metadata": {
        "id": "YEOtCmOzd-4X"
      },
      "source": [
        " - Arquivo banco.csv"
      ]
    },
    {
      "cell_type": "code",
      "execution_count": null,
      "metadata": {
        "id": "Bjfreo_ndzMZ"
      },
      "outputs": [],
      "source": [
        "%%writefile banco.csv\n",
        "age,job,marital,education,default,balance,housing,loan\n",
        "30,unemployed,married,primary,no,1787,no,no\n",
        "33,services,married,secondary,no,4789,yes,yes\n",
        "35,management,single,tertiary,no,1350,yes,no\n",
        "30,management,married,tertiary,no,1476,yes,yes\n",
        "59,blue-collar,married,secondary,no,0,yes,no\n",
        "35,management,single,tertiary,no,747,no,no\n",
        "36,self-employed,married,tertiary,no,307,yes,no\n",
        "39,technician,married,secondary,no,147,yes,no\n",
        "41,entrepreneur,married,tertiary,no,221,yes,no\n",
        "43,services,married,primary,no,-88,yes,yes"
      ]
    },
    {
      "cell_type": "code",
      "execution_count": null,
      "metadata": {
        "id": "cgWzJ8qKd3Aq"
      },
      "outputs": [],
      "source": [
        "arquivo_banco = ArquivoCSV(arquivo='./banco.csv')"
      ]
    },
    {
      "cell_type": "markdown",
      "metadata": {
        "id": "ky-E74-xWDL9"
      },
      "source": [
        " - Extraindo a coluna de `education`\n",
        "\n"
      ]
    },
    {
      "cell_type": "code",
      "execution_count": null,
      "metadata": {
        "id": "bVqfe_XgWCaV"
      },
      "outputs": [],
      "source": [
        "education = arquivo_banco.extrair_coluna(indice_coluna=3)\n",
        "print(education)"
      ]
    },
    {
      "cell_type": "markdown",
      "metadata": {
        "id": "cOZDKbe6URrb"
      },
      "source": [
        "### **2.2. Definição** "
      ]
    },
    {
      "cell_type": "markdown",
      "metadata": {
        "id": "-E0EkgFkeKtr"
      },
      "source": [
        "Vamos criar um módulo (arquivo) com o nome `arquivo_csv.py` com o código da classe `ArquivoCSV`."
      ]
    },
    {
      "cell_type": "markdown",
      "metadata": {
        "id": "H9C105KafVc-"
      },
      "source": [
        "### **2.3. Revisitando a motivação** "
      ]
    },
    {
      "cell_type": "markdown",
      "metadata": {
        "id": "h6T_8leberoO"
      },
      "source": [
        "Vamos importar a classe `ArquivoCSV` do módulo (arquivo) `arquivo_csv.py`."
      ]
    },
    {
      "cell_type": "code",
      "execution_count": null,
      "metadata": {
        "id": "6FMSdv7MeZ0s"
      },
      "outputs": [],
      "source": [
        "from arquivo_csv import ArquivoCSV\n",
        "\n",
        "arquivo_banco_modulo = ArquivoCSV(arquivo='./banco.csv')"
      ]
    },
    {
      "cell_type": "code",
      "execution_count": null,
      "metadata": {
        "id": "D-aOjf-3efTd"
      },
      "outputs": [],
      "source": [
        "education = arquivo_banco_modulo.extrair_coluna(indice_coluna=3)\n",
        "print(education)"
      ]
    },
    {
      "cell_type": "markdown",
      "metadata": {
        "id": "ELgoMRAAUSjv"
      },
      "source": [
        "## 3\\. Pacotes"
      ]
    },
    {
      "cell_type": "markdown",
      "metadata": {
        "id": "CuLkQY76USjw"
      },
      "source": [
        "### **3.1. Motivação** "
      ]
    },
    {
      "cell_type": "markdown",
      "metadata": {
        "id": "ZgxxT_jafqew"
      },
      "source": [
        " - Classe Arquivo Texto"
      ]
    },
    {
      "cell_type": "code",
      "execution_count": null,
      "metadata": {
        "id": "6ewvbQP9fn8G"
      },
      "outputs": [],
      "source": [
        "class ArquivoTXT(object):\n",
        "\n",
        "  def __init__(self, arquivo: str):\n",
        "    self.arquivo = arquivo\n",
        "    self.conteudo = self._extrair_conteudo()\n",
        "\n",
        "  def _extrair_conteudo(self):\n",
        "    conteudo = None\n",
        "    with open(file=self.arquivo, mode='r', encoding='utf8') as arquivo:\n",
        "      conteudo = arquivo.readlines()\n",
        "    return conteudo\n",
        "\n",
        "  def extrair_linha(self, numero_linha: int):\n",
        "    return self.conteudo[numero_linha-1]"
      ]
    },
    {
      "cell_type": "markdown",
      "metadata": {
        "id": "yZrvqrk8hMVw"
      },
      "source": [
        " - Arquivo noticia.txt"
      ]
    },
    {
      "cell_type": "code",
      "execution_count": null,
      "metadata": {
        "id": "3Z2JrlBQhCcv"
      },
      "outputs": [],
      "source": [
        "%%writefile noticia.txt\n",
        "Egito cobra quase US$ 1 bi para liberar navio que bloqueou Canal de Suez\n",
        "Segundo autoridades, valor será utilizado para recompor as perdas provocados pelo encalhamento da embarcação de quase 400 metros"
      ]
    },
    {
      "cell_type": "code",
      "execution_count": null,
      "metadata": {
        "id": "qDFlnC0zhUap"
      },
      "outputs": [],
      "source": [
        "arquivo_noticia = ArquivoTXT(arquivo='./noticia.txt')"
      ]
    },
    {
      "cell_type": "code",
      "execution_count": null,
      "metadata": {
        "id": "SJGiJvVBhci0"
      },
      "outputs": [],
      "source": [
        "titulo = arquivo_noticia.extrair_linha(numero_linha=1)\n",
        "print(titulo)"
      ]
    },
    {
      "cell_type": "markdown",
      "metadata": {
        "id": "JENLdmHkUSjx"
      },
      "source": [
        "### **3.2. Definição** "
      ]
    },
    {
      "cell_type": "markdown",
      "metadata": {
        "id": "hSseQ083h0pb"
      },
      "source": [
        "Vamos criar um módulo (arquivo) com o nome `arquivo_txt.py` com o código da classe `ArquivoTXT`."
      ]
    },
    {
      "cell_type": "markdown",
      "metadata": {
        "id": "h0Y-s4Hch59-"
      },
      "source": [
        "Vamos criar um pacote (pasta) com o nome arquivo e mover os módulos (arquivos) `arquivo_csv.py` e `arquivo_txt.py` para ela."
      ]
    },
    {
      "cell_type": "markdown",
      "metadata": {
        "id": "Nq0WCx8HUSjz"
      },
      "source": [
        "### **3.3. Revisitando a motivação** "
      ]
    },
    {
      "cell_type": "code",
      "execution_count": null,
      "metadata": {
        "id": "pKogPUlsif7C"
      },
      "outputs": [],
      "source": [
        "from arquivo.arquivo_csv import ArquivoCSV\n",
        "from arquivo.arquivo_txt import ArquivoTXT"
      ]
    },
    {
      "cell_type": "code",
      "execution_count": null,
      "metadata": {
        "id": "zzHFt3R7i6DX"
      },
      "outputs": [],
      "source": [
        "arquivo_banco_pacote = ArquivoCSV(arquivo='./banco.csv')\n",
        "arquivo_noticia_pacote = ArquivoTXT(arquivo='./noticia.txt')"
      ]
    },
    {
      "cell_type": "code",
      "execution_count": null,
      "metadata": {
        "id": "3azao8bvi6pn"
      },
      "outputs": [],
      "source": [
        "education = arquivo_banco_pacote.extrair_coluna(indice_coluna=3)\n",
        "print(education)"
      ]
    },
    {
      "cell_type": "code",
      "execution_count": null,
      "metadata": {
        "id": "ubb0QMwEi8Vw"
      },
      "outputs": [],
      "source": [
        "titulo = arquivo_noticia_pacote.extrair_linha(numero_linha=1)\n",
        "print(titulo)"
      ]
    },
    {
      "cell_type": "markdown",
      "metadata": {
        "id": "f20ThY5WXmns"
      },
      "source": [
        "## 4\\. Baixando pacotes"
      ]
    },
    {
      "cell_type": "markdown",
      "metadata": {
        "id": "FlUhkpdwXmoJ"
      },
      "source": [
        "### **4.1. PyPI** "
      ]
    },
    {
      "cell_type": "markdown",
      "metadata": {
        "id": "Z2JHp_YShhGK"
      },
      "source": [
        "Repositório oficial de pacotes Python ([link](https://pypi.org/))."
      ]
    },
    {
      "cell_type": "markdown",
      "metadata": {
        "id": "mU0sJeoCXmoK"
      },
      "source": [
        "### **4.2. PIP** "
      ]
    },
    {
      "cell_type": "markdown",
      "metadata": {
        "id": "H7sLz5Ohh2sQ"
      },
      "source": [
        "Ferramenta oficial para instalar pacotes Python armazenados no PyPI."
      ]
    },
    {
      "cell_type": "markdown",
      "metadata": {
        "id": "lk15K9eYhF8-"
      },
      "source": [
        " - Instalando pacotes: `pip install <pacote>==<versão>`"
      ]
    },
    {
      "cell_type": "code",
      "execution_count": null,
      "metadata": {
        "id": "6PmfjrO3kwE0"
      },
      "outputs": [],
      "source": [
        "!pip install requests==2.25.1"
      ]
    },
    {
      "cell_type": "markdown",
      "metadata": {
        "id": "odETseuCiKgA"
      },
      "source": [
        " - Listando pacotes: `pip freeze`"
      ]
    },
    {
      "cell_type": "code",
      "execution_count": null,
      "metadata": {
        "id": "uVcu2I7miO0e"
      },
      "outputs": [],
      "source": [
        "!pip freeze"
      ]
    },
    {
      "cell_type": "markdown",
      "metadata": {
        "id": "euzwK_8VirCJ"
      },
      "source": [
        " - Removendo pacotes: `pip uninstall <pacote>`"
      ]
    },
    {
      "cell_type": "code",
      "execution_count": null,
      "metadata": {
        "id": "8C1lfHuji97L"
      },
      "outputs": [],
      "source": [
        "!pip uninstall requests"
      ]
    },
    {
      "cell_type": "markdown",
      "metadata": {
        "id": "IA0eGZQ4k24m"
      },
      "source": [
        "### **4.3. Requests** "
      ]
    },
    {
      "cell_type": "markdown",
      "metadata": {
        "id": "aIS5dSmUlNDZ"
      },
      "source": [
        "Pacote para interação com o protocolo web HTTP ([link](https://pypi.org/project/requests/))."
      ]
    },
    {
      "cell_type": "markdown",
      "metadata": {
        "id": "tosUt4YUQ-Eq"
      },
      "source": [
        "**Exemplo:** Extrair a taxa CDI do site da B3."
      ]
    },
    {
      "cell_type": "code",
      "execution_count": null,
      "metadata": {
        "id": "FOA9GUgklXy_"
      },
      "outputs": [],
      "source": [
        "import requests as req\n",
        "\n",
        "response = req.get('https://www2.cetip.com.br/ConsultarTaxaDi/ConsultarTaxaDICetip.aspx')"
      ]
    },
    {
      "cell_type": "code",
      "execution_count": null,
      "metadata": {
        "id": "tgGpWa2ql3u2"
      },
      "outputs": [],
      "source": [
        "print(f'status code: {response.status_code}')"
      ]
    },
    {
      "cell_type": "code",
      "execution_count": null,
      "metadata": {
        "id": "dnQwEQ8tmAXt"
      },
      "outputs": [],
      "source": [
        "print(response.text)"
      ]
    },
    {
      "cell_type": "code",
      "execution_count": null,
      "metadata": {
        "id": "I64ho0ZaPhK1"
      },
      "outputs": [],
      "source": [
        "import json\n",
        "\n",
        "data = json.loads(response.text)\n",
        "print(data)"
      ]
    },
    {
      "cell_type": "code",
      "execution_count": null,
      "metadata": {
        "id": "aBMgH8LBNjBg"
      },
      "outputs": [],
      "source": [
        "cdi = None\n",
        "\n",
        "for key, value in data.items():\n",
        "  if key == 'taxa':\n",
        "    cdi = value.replace(',', '.')\n",
        "    cdi = float(cdi)\n",
        "\n",
        "print(cdi)"
      ]
    }
  ],
  "metadata": {
    "colab": {
      "collapsed_sections": [],
      "name": "module_7_class.ipynb",
      "provenance": [],
      "toc_visible": true
    },
    "kernelspec": {
      "display_name": "Python 3",
      "name": "python3"
    },
    "language_info": {
      "codemirror_mode": {
        "name": "ipython",
        "version": 3
      },
      "file_extension": ".py",
      "mimetype": "text/x-python",
      "name": "python",
      "nbconvert_exporter": "python",
      "pygments_lexer": "ipython3",
      "version": "3.10.6"
    }
  },
  "nbformat": 4,
  "nbformat_minor": 0
}
